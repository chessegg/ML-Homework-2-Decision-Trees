{
 "cells": [
  {
   "cell_type": "markdown",
   "metadata": {},
   "source": [
    "CRAIG HILBY cxh170004 <br>\n",
    "Learners.py<br>\n",
    "---------<br>\n",
    "Licensing Information:  You are free to use or extend these projects for<br>\n",
    "personal and educational purposes provided that (1) you do not distribute<br>\n",
    "or publish solutions, (2) you retain this notice, and (3) you provide clear<br>\n",
    "attribution to UT Dallas, including a link to http://cs.utdallas.edu.<br>\n",
    "<br>\n",
    "This file is part of Homework for CS6375: Machine Learning.<br>\n",
    "Gautam Kunapuli (gautam.kunapuli@utdallas.edu)<br>\n",
    "Sriraam Natarajan (sriraam.natarajan@utdallas.edu),<br>\n",
    "Anjum Chida (anjum.chida@utdallas.edu)<br>\n",
    "<br>\n",
    "<br>\n",
    "INSTRUCTIONS:<br>\n",
    "------------<br>\n",
    "1. This file contains a skeleton for implementing the ID3 algorithm for<br>\n",
    "Decision Trees. Insert your code into the various functions that have the<br>\n",
    "comment \"INSERT YOUR CODE HERE\".<br>\n",
    "<br>\n",
    "2. Do NOT modify the classes or functions that have the comment \"DO NOT<br>\n",
    "MODIFY THIS FUNCTION\".<br>\n",
    "<br>\n",
    "3. Do not modify the function headers for ANY of the functions.<br>\n",
    "<br>\n",
    "4. You may add any other helper functions you feel you may need to print,<br>\n",
    "visualize, test, or save the data and results. However, you MAY NOT utilize<br>\n",
    "the package scikit-learn OR ANY OTHER machine learning package in THIS file."
   ]
  },
  {
   "cell_type": "code",
   "execution_count": 476,
   "metadata": {},
   "outputs": [],
   "source": [
    "import numpy as np\n",
    "import os\n",
    "import graphviz\n",
    "import math\n",
    "import matplotlib.pyplot as plt "
   ]
  },
  {
   "cell_type": "code",
   "execution_count": 477,
   "metadata": {},
   "outputs": [],
   "source": [
    "def partition(x):\n",
    "    \"\"\"\n",
    "    Partition the column vector x into subsets indexed by its unique values (v1, ... vk)\n",
    "    Returns a dictionary of the form\n",
    "    { v1: indices of x == v1,\n",
    "      v2: indices of x == v2,\n",
    "      ...\n",
    "      vk: indices of x == vk }, where [v1, ... vk] are all the unique values in the vector z.\n",
    "    \"\"\"\n",
    "\n",
    "    indices = {}\n",
    "    for value in range(len(x)):\n",
    "        indices[x[value]] = indices.get(x[value], []) + [value]\n",
    "    return indices\n",
    "    raise Exception('Function not yet implemented!')"
   ]
  },
  {
   "cell_type": "markdown",
   "metadata": {},
   "source": [
    "Test case"
   ]
  },
  {
   "cell_type": "code",
   "execution_count": 478,
   "metadata": {},
   "outputs": [
    {
     "data": {
      "text/plain": [
       "{1: [0, 3], 5: [1, 5, 7], 3: [2, 6, 8], 7: [4], 2: [9]}"
      ]
     },
     "execution_count": 478,
     "metadata": {},
     "output_type": "execute_result"
    }
   ],
   "source": [
    "partition([1,5,3,1,7,5,3,5,3,2])"
   ]
  },
  {
   "cell_type": "code",
   "execution_count": 479,
   "metadata": {},
   "outputs": [],
   "source": [
    "def entropy(y):\n",
    "    \"\"\"\n",
    "    Compute the entropy of a vector y by considering the counts of the unique values (v1, ... vk), in z\n",
    "    Returns the entropy of z: H(z) = p(z=v1) log2(p(z=v1)) + ... + p(z=vk) log2(p(z=vk))\n",
    "    \"\"\"\n",
    "\n",
    "    values, count = np.unique(y, return_counts=\"True\")\n",
    "    h = 0\n",
    "    for c in count:\n",
    "        h += ((c/len(y))* math.log(c/len(y), 2))\n",
    "    return -h\n",
    "    raise Exception('Function not yet implemented!')"
   ]
  },
  {
   "cell_type": "markdown",
   "metadata": {},
   "source": [
    "Test case"
   ]
  },
  {
   "cell_type": "code",
   "execution_count": 480,
   "metadata": {},
   "outputs": [
    {
     "data": {
      "text/plain": [
       "0.9182958340544896"
      ]
     },
     "execution_count": 480,
     "metadata": {},
     "output_type": "execute_result"
    }
   ],
   "source": [
    "entropy([1,0,1,1,0,1,0,1,1])"
   ]
  },
  {
   "cell_type": "code",
   "execution_count": 481,
   "metadata": {},
   "outputs": [],
   "source": [
    "def mutual_information(x, y):\n",
    "    \"\"\"\n",
    "    Compute the mutual information between a data column (x) and the labels (y). The data column is a single attribute\n",
    "    over all the examples (n x 1). Mutual information is the difference between the entropy BEFORE the split set, and\n",
    "    the weighted-average entropy of EACH possible split.\n",
    "    Returns the mutual information: I(x, y) = H(y) - H(y | x)\n",
    "    \"\"\"\n",
    "\n",
    "    e_y = entropy(y)\n",
    "    d = {}\n",
    "    values, count = np.unique(x, return_counts=\"True\")\n",
    "    for v in values:\n",
    "        new_y1 = []\n",
    "        new_y2 = []\n",
    "        for i in range(len(y)):\n",
    "            if (x[i] == v):\n",
    "                new_y1.append(y[i])\n",
    "            else:\n",
    "                new_y2.append(y[i])\n",
    "        d[v] = e_y - (((len(new_y1)/len(y))*entropy(new_y1)) + ((len(new_y2)/len(y))*entropy(new_y2)))\n",
    "    return d\n",
    "    raise Exception('Function not yet implemented!')"
   ]
  },
  {
   "cell_type": "code",
   "execution_count": 482,
   "metadata": {},
   "outputs": [],
   "source": [
    "def info_gain_specified_value(x, v, y):\n",
    "    d = mutual_information(x,y)\n",
    "    return d.get(v)"
   ]
  },
  {
   "cell_type": "markdown",
   "metadata": {},
   "source": [
    "Test Cases"
   ]
  },
  {
   "cell_type": "code",
   "execution_count": 483,
   "metadata": {},
   "outputs": [
    {
     "data": {
      "text/plain": [
       "{'a': 0.0, 'b': 0.034851554559677034, 'c': 0.034851554559677034}"
      ]
     },
     "execution_count": 483,
     "metadata": {},
     "output_type": "execute_result"
    }
   ],
   "source": [
    "m1 = ['a','a','b','c','a','b','c','a','b','c']\n",
    "m2 = [1,0,1,0,0,0,1,1,1,0]\n",
    "mutual_information(m1, m2)"
   ]
  },
  {
   "cell_type": "code",
   "execution_count": 484,
   "metadata": {},
   "outputs": [
    {
     "data": {
      "text/plain": [
       "0.034851554559677034"
      ]
     },
     "execution_count": 484,
     "metadata": {},
     "output_type": "execute_result"
    }
   ],
   "source": [
    "m1 = ['a','a','b','c','a','b','c','a','b','c']\n",
    "m2 = [1,0,1,0,0,0,1,1,1,0]\n",
    "info_gain_specified_value(m1, 'b', m2)"
   ]
  },
  {
   "cell_type": "code",
   "execution_count": 485,
   "metadata": {},
   "outputs": [],
   "source": [
    "def id3(x, y, attribute_value_pairs=None, depth=0, max_depth=5):\n",
    "    \"\"\"\n",
    "    Implements the classical ID3 algorithm given training data (x), training labels (y) and an array of\n",
    "    attribute-value pairs to consider. This is a recursive algorithm that depends on three termination conditions\n",
    "        1. If the entire set of labels (y) is pure (all y = only 0 or only 1), then return that label\n",
    "        2. If the set of attribute-value pairs is empty (there is nothing to split on), then return the most common\n",
    "           value of y (majority label)\n",
    "        3. If the max_depth is reached (pre-pruning bias), then return the most common value of y (majority label)\n",
    "    Otherwise the algorithm selects the next best attribute-value pair using INFORMATION GAIN as the splitting criterion\n",
    "    and partitions the data set based on the values of that attribute before the next recursive call to ID3.\n",
    "    The tree we learn is a BINARY tree, which means that every node has only two branches. The splitting criterion has\n",
    "    to be chosen from among all possible attribute-value pairs. That is, for a problem with two features/attributes x1\n",
    "    (taking values a, b, c) and x2 (taking values d, e), the initial attribute value pair list is a list of all pairs of\n",
    "    attributes with their corresponding values:\n",
    "    [(x1, a),\n",
    "     (x1, b),\n",
    "     (x1, c),\n",
    "     (x2, d),\n",
    "     (x2, e)]\n",
    "     If we select (x2, d) as the best attribute-value pair, then the new decision node becomes: [ (x2 == d)? ] and\n",
    "     the attribute-value pair (x2, d) is removed from the list of attribute_value_pairs.\n",
    "    The tree is stored as a nested dictionary, where each entry is of the form\n",
    "                    (attribute_index, attribute_value, True/False): subtree\n",
    "    * The (attribute_index, attribute_value) determines the splitting criterion of the current node. For example, (4, 2)\n",
    "    indicates that we test if (x4 == 2) at the current node.\n",
    "    * The subtree itself can be nested dictionary, or a single label (leaf node).\n",
    "    * Leaf nodes are (majority) class labels\n",
    "    Returns a decision tree represented as a nested dictionary, for example\n",
    "    {(4, 1, False):\n",
    "        {(0, 1, False):\n",
    "            {(1, 1, False): 1,\n",
    "             (1, 1, True): 0},\n",
    "         (0, 1, True):\n",
    "            {(1, 1, False): 0,\n",
    "             (1, 1, True): 1}},\n",
    "     (4, 1, True): 1}\n",
    "    \"\"\"\n",
    "\n",
    "    x = np.asarray(x)\n",
    "    y = np.asarray(y)\n",
    "    \n",
    "    #populate attribute_value_pairs\n",
    "    if depth == 0:\n",
    "        attribute_value_pairs = []\n",
    "        for attr in range(len(x[0])):\n",
    "            for val in np.unique(np.transpose(x[:,attr])):\n",
    "                pair = (attr, val)\n",
    "                attribute_value_pairs.append(pair)\n",
    "    \n",
    "    #checks if entire set of labels(y) is pure\n",
    "    if len(np.unique(y)) == 1:\n",
    "        return y[0]\n",
    "    \n",
    "    #checks if attr val pairs are empty, or if at max depth. In both cases, return majority label\n",
    "    if (not attribute_value_pairs) or depth == max_depth or len(x) == 0:\n",
    "        values, counts = np.unique(y, return_counts = \"True\")\n",
    "        if counts.size == 0:\n",
    "            return 0\n",
    "        index_max = np.argmax(counts)\n",
    "        return values[index_max]\n",
    "    \n",
    "    d = {}\n",
    "    max_ig = -1\n",
    "    dec_node = (-1,-1)\n",
    "\n",
    "    for pair in attribute_value_pairs:\n",
    "        attr_vec = np.transpose(x)[pair[0]]\n",
    "        info_gain = mutual_information(attr_vec, y).get(pair[1])\n",
    "        if info_gain is None:\n",
    "            continue\n",
    "        if info_gain > max_ig:\n",
    "            max_ig = info_gain\n",
    "            dec_node = pair\n",
    "    if dec_node == (-1,-1):\n",
    "        values, counts = np.unique(y, return_counts = \"True\")\n",
    "        return values[np.argmax(counts)]\n",
    "    else:\n",
    "        attribute_value_pairs.remove(dec_node)\n",
    "    \n",
    "    x_new1 = []\n",
    "    x_new2 = []\n",
    "    y_new1 = []\n",
    "    y_new2 = []\n",
    "    for i in range(len(x)):\n",
    "        if x[i][dec_node[0]] == dec_node[1]:\n",
    "            x_new1.append(x[i])\n",
    "            y_new1.append(y[i])\n",
    "        else:\n",
    "            x_new2.append(x[i])\n",
    "            y_new2.append(y[i])\n",
    "            \n",
    "    \n",
    "    d[(dec_node[0], dec_node[1], False)] = id3(x_new2, y_new2, attribute_value_pairs, depth+1, max_depth)\n",
    "    d[(dec_node[0], dec_node[1], True)] = id3(x_new1, y_new1, attribute_value_pairs, depth+1, max_depth)\n",
    "    return d\n",
    "        \n",
    "    raise Exception('Function not yet implemented!')"
   ]
  },
  {
   "cell_type": "markdown",
   "metadata": {},
   "source": [
    "Test case"
   ]
  },
  {
   "cell_type": "code",
   "execution_count": 486,
   "metadata": {},
   "outputs": [
    {
     "data": {
      "text/plain": [
       "{(2, 0, False): {(0, 1, False): 1,\n",
       "  (0, 1, True): {(1, 3, False): 0, (1, 3, True): 1}},\n",
       " (2, 0, True): 0}"
      ]
     },
     "execution_count": 486,
     "metadata": {},
     "output_type": "execute_result"
    }
   ],
   "source": [
    "x = [[0,0,0],[1,2,2],[2,0,1],[0,1,1],[2,2,2],[1,0,1],[1,1,0],[3,2,1],[1,3,3],[0,0,1]]\n",
    "y = [0,0,1,1,1,0,0,1,1,1]\n",
    "id3(x, y)"
   ]
  },
  {
   "cell_type": "code",
   "execution_count": 487,
   "metadata": {},
   "outputs": [],
   "source": [
    "def predict_example(x, tree):\n",
    "    \"\"\"\n",
    "    Predicts the classification label for a single example x using tree by recursively descending the tree until\n",
    "    a label/leaf node is reached.\n",
    "    Returns the predicted label of x according to tree\n",
    "    \"\"\"\n",
    "\n",
    "    root = list(tree.keys())\n",
    "    attr = root[0][0]\n",
    "    val = root[0][1]\n",
    "    if x[attr] == val:\n",
    "        subTree = tree.get((attr, val, True))\n",
    "    else:\n",
    "        subTree = tree.get((attr, val, False))\n",
    "    \n",
    "    if subTree == 0 or subTree == 1:\n",
    "        return subTree\n",
    "    else:\n",
    "        return predict_example(x, subTree)\n",
    "        \n",
    "    raise Exception('Function not yet implemented!')"
   ]
  },
  {
   "cell_type": "code",
   "execution_count": 488,
   "metadata": {},
   "outputs": [
    {
     "data": {
      "text/plain": [
       "0"
      ]
     },
     "execution_count": 488,
     "metadata": {},
     "output_type": "execute_result"
    }
   ],
   "source": [
    "x = [[0,0,0],[1,2,2],[2,0,1],[0,1,1],[2,2,2],[1,0,1],[1,1,0],[3,2,1],[1,3,3],[0,0,1]]\n",
    "y = [0,0,1,1,1,0,0,1,1,1]\n",
    "predict_example([1,2,1],id3(x, y))"
   ]
  },
  {
   "cell_type": "code",
   "execution_count": 489,
   "metadata": {},
   "outputs": [],
   "source": [
    "def compute_error(y_true, y_pred):\n",
    "    \"\"\"\n",
    "    Computes the average error between the true labels (y_true) and the predicted labels (y_pred)\n",
    "    Returns the error = (1/n) * sum(y_true != y_pred)\n",
    "    \"\"\"\n",
    "\n",
    "    n = len(y_true)\n",
    "    sum = 0\n",
    "    for i in range(n):\n",
    "        if (y_true[i] != y_pred[i]):\n",
    "            sum += 1\n",
    "            \n",
    "    return (1/n) * sum\n",
    "    raise Exception('Function not yet implemented!')"
   ]
  },
  {
   "cell_type": "code",
   "execution_count": 490,
   "metadata": {},
   "outputs": [],
   "source": [
    "def pretty_print(tree, depth=0):\n",
    "    \"\"\"\n",
    "    Pretty prints the decision tree to the console. Use print(tree) to print the raw nested dictionary representation\n",
    "    \"\"\"\n",
    "    if depth == 0:\n",
    "        print('TREE')\n",
    "    for index, split_criterion in enumerate(tree):\n",
    "        sub_trees = tree[split_criterion]\n",
    "\n",
    "        # Print the current node: split criterion\n",
    "        print('|\\t' * depth, end='')\n",
    "        print('+-- [SPLIT: x{0} = {1} {2}]'.format(split_criterion[0], split_criterion[1], split_criterion[2]))\n",
    "\n",
    "        # Print the children\n",
    "        if type(sub_trees) is dict:\n",
    "            pretty_print(sub_trees, depth + 1)\n",
    "        else:\n",
    "            print('|\\t' * (depth + 1), end='')\n",
    "            print('+-- [LABEL = {0}]'.format(sub_trees))"
   ]
  },
  {
   "cell_type": "code",
   "execution_count": 491,
   "metadata": {},
   "outputs": [],
   "source": [
    "def render_dot_file(dot_string, save_file, image_format='png'):\n",
    "    \"\"\"\n",
    "    Uses GraphViz to render a dot file. The dot file can be generated using\n",
    "        * sklearn.tree.export_graphviz()' for decision trees produced by scikit-learn\n",
    "        * to_graphviz() (function is in this file) for decision trees produced by  your code.\n",
    "    \"\"\"\n",
    "    if type(dot_string).__name__ != 'str':\n",
    "        raise TypeError('visualize() requires a string representation of a decision tree.\\nUse tree.export_graphviz()'\n",
    "                        'for decision trees produced by scikit-learn and to_graphviz() for decision trees produced by'\n",
    "                        'your code.\\n')\n",
    "\n",
    "    # Set path to your GraphViz executable here\n",
    "    os.environ[\"PATH\"] += os.pathsep + 'C:/Program Files (x86)/Graphviz2.38/bin/'\n",
    "    graph = graphviz.Source(dot_string)\n",
    "    graph.format = image_format\n",
    "    graph.render(save_file, view=True)"
   ]
  },
  {
   "cell_type": "code",
   "execution_count": 492,
   "metadata": {},
   "outputs": [],
   "source": [
    "def to_graphviz(tree, dot_string='', uid=-1, depth=0):\n",
    "    \"\"\"\n",
    "    Converts a tree to DOT format for use with visualize/GraphViz\n",
    "    \"\"\"\n",
    "    uid += 1       # Running index of node ids across recursion\n",
    "    node_id = uid  # Node id of this node\n",
    "    if depth == 0:\n",
    "        dot_string += 'digraph TREE {\\n'\n",
    "    for split_criterion in tree:\n",
    "        sub_trees = tree[split_criterion]\n",
    "        attribute_index = split_criterion[0]\n",
    "        attribute_value = split_criterion[1]\n",
    "        split_decision = split_criterion[2]\n",
    "        if not split_decision:\n",
    "            # Alphabetically, False comes first\n",
    "            dot_string += '    node{0} [label=\"x{1} = {2}?\"];\\n'.format(node_id, attribute_index, attribute_value)\n",
    "        if type(sub_trees) is dict:\n",
    "            if not split_decision:\n",
    "                dot_string, right_child, uid = to_graphviz(sub_trees, dot_string=dot_string, uid=uid, depth=depth + 1)\n",
    "                dot_string += '    node{0} -> node{1} [label=\"False\"];\\n'.format(node_id, right_child)\n",
    "            else:\n",
    "                dot_string, left_child, uid = to_graphviz(sub_trees, dot_string=dot_string, uid=uid, depth=depth + 1)\n",
    "                dot_string += '    node{0} -> node{1} [label=\"True\"];\\n'.format(node_id, left_child)\n",
    "        else:\n",
    "            uid += 1\n",
    "            dot_string += '    node{0} [label=\"y = {1}\"];\\n'.format(uid, sub_trees)\n",
    "            if not split_decision:\n",
    "                dot_string += '    node{0} -> node{1} [label=\"False\"];\\n'.format(node_id, uid)\n",
    "            else:\n",
    "                dot_string += '    node{0} -> node{1} [label=\"True\"];\\n'.format(node_id, uid)\n",
    "    if depth == 0:\n",
    "        dot_string += '}\\n'\n",
    "        return dot_string\n",
    "    else:\n",
    "        return dot_string, node_id, uid"
   ]
  },
  {
   "cell_type": "code",
   "execution_count": 528,
   "metadata": {},
   "outputs": [
    {
     "name": "stdout",
     "output_type": "stream",
     "text": [
      "TREE\n",
      "+-- [SPLIT: x4 = 1 False]\n",
      "|\t+-- [SPLIT: x0 = 1 False]\n",
      "|\t|\t+-- [SPLIT: x1 = 1 False]\n",
      "|\t|\t|\t+-- [LABEL = 1]\n",
      "|\t|\t+-- [SPLIT: x1 = 1 True]\n",
      "|\t|\t|\t+-- [LABEL = 0]\n",
      "|\t+-- [SPLIT: x0 = 1 True]\n",
      "|\t|\t+-- [SPLIT: x1 = 3 False]\n",
      "|\t|\t|\t+-- [LABEL = 0]\n",
      "|\t|\t+-- [SPLIT: x1 = 3 True]\n",
      "|\t|\t|\t+-- [LABEL = 0]\n",
      "+-- [SPLIT: x4 = 1 True]\n",
      "|\t+-- [LABEL = 1]\n",
      "Test Error = 25.00%.\n"
     ]
    }
   ],
   "source": [
    "if __name__ == '__main__':\n",
    "    # Load the training data\n",
    "    M = np.genfromtxt('./monks-1.train', missing_values=0, skip_header=0, delimiter=',', dtype=int)\n",
    "    ytrn = M[:, 0]\n",
    "    Xtrn = M[:, 1:]\n",
    "\n",
    "    # Load the test data\n",
    "    M = np.genfromtxt('./monks-1.test', missing_values=0, skip_header=0, delimiter=',', dtype=int)\n",
    "    ytst = M[:, 0]\n",
    "    Xtst = M[:, 1:]\n",
    "\n",
    "    # Learn a decision tree of depth 3\n",
    "    decision_tree = id3(Xtrn, ytrn, max_depth=3)\n",
    "\n",
    "    # Pretty print it to console\n",
    "    pretty_print(decision_tree)\n",
    "\n",
    "    # Visualize the tree and save it as a PNG image\n",
    "    dot_str = to_graphviz(decision_tree)\n",
    "    render_dot_file(dot_str, './my_learned_tree')\n",
    "\n",
    "    # Compute the test error\n",
    "    y_pred = [predict_example(x, decision_tree) for x in Xtst]\n",
    "    tst_err = compute_error(ytst, y_pred)\n",
    "\n",
    "    print('Test Error = {0:4.2f}%.'.format(tst_err * 100))"
   ]
  },
  {
   "cell_type": "markdown",
   "metadata": {},
   "source": [
    "# Part B "
   ]
  },
  {
   "cell_type": "markdown",
   "metadata": {},
   "source": [
    "Monks-1 Data Set"
   ]
  },
  {
   "cell_type": "code",
   "execution_count": 494,
   "metadata": {},
   "outputs": [
    {
     "data": {
      "image/png": "[encoded data removed]",
      "text/plain": [
       "<Figure size 432x288 with 1 Axes>"
      ]
     },
     "metadata": {
      "needs_background": "light"
     },
     "output_type": "display_data"
    }
   ],
   "source": [
    "M = np.genfromtxt('./monks-1.train', missing_values=0, skip_header=0, delimiter=',', dtype=int)\n",
    "ytrn = M[:, 0]\n",
    "Xtrn = M[:, 1:]\n",
    "\n",
    "# Load the test data\n",
    "M = np.genfromtxt('./monks-1.test', missing_values=0, skip_header=0, delimiter=',', dtype=int)\n",
    "ytst = M[:, 0]\n",
    "Xtst = M[:, 1:]\n",
    "\n",
    "testErr = {}\n",
    "trainErr = {}\n",
    "for i in range(1,11):\n",
    "    decision_tree = id3(Xtrn, ytrn, max_depth=i)\n",
    "    #compute test error\n",
    "    y_pred = [predict_example(x, decision_tree) for x in Xtst]\n",
    "    testErr[i] = compute_error(ytst, y_pred)\n",
    "    #compute training error\n",
    "    y_pred = [predict_example(x, decision_tree) for x in Xtrn]\n",
    "    trainErr[i] = compute_error(ytrn, y_pred)\n",
    "    \n",
    "#Plot tree depth on the x-axis and test/training errors on the y-axis.\n",
    "fig = plt.figure()\n",
    "fig.suptitle(\"Monks-1\")\n",
    "plt.plot(testErr.keys(), testErr.values(), marker='s', linewidth=3, markersize=12)\n",
    "plt.plot(trainErr.keys(), trainErr.values(), marker='o', linewidth=3, markersize=12)\n",
    "plt.xlabel('Tree Depth', fontsize=16)\n",
    "plt.ylabel('Test/Training error', fontsize=16)\n",
    "plt.xticks(list(range(1,11)), fontsize=12)\n",
    "plt.legend(['Test Error', 'Training Error'], fontsize=16)\n",
    "plt.axis([0, 11, 0, 0.3])\n",
    "plt.show()"
   ]
  },
  {
   "cell_type": "markdown",
   "metadata": {},
   "source": [
    "Monks-2 Data Set"
   ]
  },
  {
   "cell_type": "code",
   "execution_count": 495,
   "metadata": {},
   "outputs": [
    {
     "data": {
      "image/png": "[encoded data removed]",
      "text/plain": [
       "<Figure size 432x288 with 1 Axes>"
      ]
     },
     "metadata": {
      "needs_background": "light"
     },
     "output_type": "display_data"
    }
   ],
   "source": [
    "M = np.genfromtxt('./monks-2.train', missing_values=0, skip_header=0, delimiter=',', dtype=int)\n",
    "ytrn = M[:, 0]\n",
    "Xtrn = M[:, 1:]\n",
    "\n",
    "# Load the test data\n",
    "M = np.genfromtxt('./monks-2.test', missing_values=0, skip_header=0, delimiter=',', dtype=int)\n",
    "ytst = M[:, 0]\n",
    "Xtst = M[:, 1:]\n",
    "\n",
    "testErr = {}\n",
    "trainErr = {}\n",
    "for i in range(1,11):\n",
    "    decision_tree = id3(Xtrn, ytrn, max_depth=i)\n",
    "    #compute test error\n",
    "    y_pred = [predict_example(x, decision_tree) for x in Xtst]\n",
    "    testErr[i] = compute_error(ytst, y_pred)\n",
    "    #compute training error\n",
    "    y_pred = [predict_example(x, decision_tree) for x in Xtrn]\n",
    "    trainErr[i] = compute_error(ytrn, y_pred)\n",
    "    \n",
    "#Plot tree depth on the x-axis and test/training errors on the y-axis.\n",
    "fig = plt.figure()\n",
    "fig.suptitle(\"Monks-2\")\n",
    "plt.plot(testErr.keys(), testErr.values(), marker='s', linewidth=3, markersize=12)\n",
    "plt.plot(trainErr.keys(), trainErr.values(), marker='o', linewidth=3, markersize=12)\n",
    "plt.xlabel('Tree Depth', fontsize=16)\n",
    "plt.ylabel('Test/Training error', fontsize=16)\n",
    "plt.xticks(list(range(1,11)), fontsize=12)\n",
    "plt.legend(['Test Error', 'Training Error'], fontsize=16)\n",
    "plt.axis([0, 11, 0, 0.45])\n",
    "plt.show()"
   ]
  },
  {
   "cell_type": "markdown",
   "metadata": {},
   "source": [
    "Monks-3 Data Set"
   ]
  },
  {
   "cell_type": "code",
   "execution_count": 496,
   "metadata": {},
   "outputs": [
    {
     "data": {
      "image/png": "[encoded data removed]",
      "text/plain": [
       "<Figure size 432x288 with 1 Axes>"
      ]
     },
     "metadata": {
      "needs_background": "light"
     },
     "output_type": "display_data"
    }
   ],
   "source": [
    "M = np.genfromtxt('./monks-3.train', missing_values=0, skip_header=0, delimiter=',', dtype=int)\n",
    "ytrn = M[:, 0]\n",
    "Xtrn = M[:, 1:]\n",
    "\n",
    "# Load the test data\n",
    "M = np.genfromtxt('./monks-3.test', missing_values=0, skip_header=0, delimiter=',', dtype=int)\n",
    "ytst = M[:, 0]\n",
    "Xtst = M[:, 1:]\n",
    "\n",
    "testErr = {}\n",
    "trainErr = {}\n",
    "for i in range(1,11):\n",
    "    decision_tree = id3(Xtrn, ytrn, max_depth=i)\n",
    "    #compute test error\n",
    "    y_pred = [predict_example(x, decision_tree) for x in Xtst]\n",
    "    testErr[i] = compute_error(ytst, y_pred)\n",
    "    #compute training error\n",
    "    y_pred = [predict_example(x, decision_tree) for x in Xtrn]\n",
    "    trainErr[i] = compute_error(ytrn, y_pred)\n",
    "    \n",
    "#Plot tree depth on the x-axis and test/training errors on the y-axis.\n",
    "fig = plt.figure()\n",
    "fig.suptitle(\"Monks-3\")\n",
    "plt.plot(testErr.keys(), testErr.values(), marker='s', linewidth=3, markersize=12)\n",
    "plt.plot(trainErr.keys(), trainErr.values(), marker='o', linewidth=3, markersize=12)\n",
    "plt.xlabel('Tree Depth', fontsize=16)\n",
    "plt.ylabel('Test/Training error', fontsize=16)\n",
    "plt.xticks(list(range(1,11)), fontsize=12)\n",
    "plt.legend(['Test Error', 'Training Error'], fontsize=16)\n",
    "plt.axis([0, 11, 0, 0.3])\n",
    "plt.show()"
   ]
  },
  {
   "cell_type": "markdown",
   "metadata": {},
   "source": [
    "# Part C"
   ]
  },
  {
   "cell_type": "code",
   "execution_count": 497,
   "metadata": {},
   "outputs": [],
   "source": [
    "from sklearn.metrics import confusion_matrix\n",
    "from sklearn.metrics import plot_confusion_matrix\n",
    "from sklearn.svm import SVC"
   ]
  },
  {
   "cell_type": "markdown",
   "metadata": {},
   "source": [
    "Monks-1"
   ]
  },
  {
   "cell_type": "code",
   "execution_count": 498,
   "metadata": {},
   "outputs": [],
   "source": [
    "M = np.genfromtxt('./monks-1.train', missing_values=0, skip_header=0, delimiter=',', dtype=int)\n",
    "ytrn = M[:, 0]\n",
    "Xtrn = M[:, 1:]\n",
    "\n",
    "# Load the test data\n",
    "M = np.genfromtxt('./monks-1.test', missing_values=0, skip_header=0, delimiter=',', dtype=int)\n",
    "ytst = M[:, 0]\n",
    "Xtst = M[:, 1:]"
   ]
  },
  {
   "cell_type": "markdown",
   "metadata": {},
   "source": [
    "Depth = 1"
   ]
  },
  {
   "cell_type": "code",
   "execution_count": 532,
   "metadata": {},
   "outputs": [
    {
     "name": "stdout",
     "output_type": "stream",
     "text": [
      "TREE\n",
      "+-- [SPLIT: x4 = 1 False]\n",
      "|\t+-- [LABEL = 0]\n",
      "+-- [SPLIT: x4 = 1 True]\n",
      "|\t+-- [LABEL = 1]\n"
     ]
    }
   ],
   "source": [
    "decision_tree_1c = id3(Xtrn, ytrn, max_depth=1)\n",
    "\n",
    "# Pretty print it to console\n",
    "pretty_print(decision_tree_1c)"
   ]
  },
  {
   "cell_type": "code",
   "execution_count": 500,
   "metadata": {},
   "outputs": [
    {
     "name": "stdout",
     "output_type": "stream",
     "text": [
      "Confusion Matrix (Depth = 1):\n",
      "[[216   0]\n",
      " [108 108]]\n"
     ]
    }
   ],
   "source": [
    "y_pred_1c = [predict_example(x, decision_tree_1c) for x in Xtst]\n",
    "print(\"Confusion Matrix (Depth = 1):\")\n",
    "print(confusion_matrix(ytst, y_pred_1c))"
   ]
  },
  {
   "cell_type": "markdown",
   "metadata": {},
   "source": [
    "Depth = 3"
   ]
  },
  {
   "cell_type": "code",
   "execution_count": 534,
   "metadata": {},
   "outputs": [
    {
     "name": "stdout",
     "output_type": "stream",
     "text": [
      "TREE\n",
      "+-- [SPLIT: x4 = 1 False]\n",
      "|\t+-- [SPLIT: x0 = 1 False]\n",
      "|\t|\t+-- [SPLIT: x1 = 1 False]\n",
      "|\t|\t|\t+-- [LABEL = 1]\n",
      "|\t|\t+-- [SPLIT: x1 = 1 True]\n",
      "|\t|\t|\t+-- [LABEL = 0]\n",
      "|\t+-- [SPLIT: x0 = 1 True]\n",
      "|\t|\t+-- [SPLIT: x1 = 3 False]\n",
      "|\t|\t|\t+-- [LABEL = 0]\n",
      "|\t|\t+-- [SPLIT: x1 = 3 True]\n",
      "|\t|\t|\t+-- [LABEL = 0]\n",
      "+-- [SPLIT: x4 = 1 True]\n",
      "|\t+-- [LABEL = 1]\n"
     ]
    }
   ],
   "source": [
    "# Learn a decision tree of depth 3\n",
    "decision_tree_3c = id3(Xtrn, ytrn, max_depth=3)\n",
    "\n",
    "# Pretty print it to console\n",
    "pretty_print(decision_tree_3c)"
   ]
  },
  {
   "cell_type": "code",
   "execution_count": 502,
   "metadata": {},
   "outputs": [
    {
     "name": "stdout",
     "output_type": "stream",
     "text": [
      "Confusion Matrix (Depth = 3):\n",
      "[[144  72]\n",
      " [ 36 180]]\n"
     ]
    }
   ],
   "source": [
    "y_pred_3c = [predict_example(x, decision_tree_3c) for x in Xtst]\n",
    "print(\"Confusion Matrix (Depth = 3):\")\n",
    "print(confusion_matrix(ytst, y_pred_3c))"
   ]
  },
  {
   "cell_type": "markdown",
   "metadata": {},
   "source": [
    "Depth = 5"
   ]
  },
  {
   "cell_type": "code",
   "execution_count": 535,
   "metadata": {},
   "outputs": [
    {
     "name": "stdout",
     "output_type": "stream",
     "text": [
      "TREE\n",
      "+-- [SPLIT: x4 = 1 False]\n",
      "|\t+-- [SPLIT: x0 = 1 False]\n",
      "|\t|\t+-- [SPLIT: x1 = 1 False]\n",
      "|\t|\t|\t+-- [SPLIT: x4 = 3 False]\n",
      "|\t|\t|\t|\t+-- [SPLIT: x3 = 1 False]\n",
      "|\t|\t|\t|\t|\t+-- [LABEL = 1]\n",
      "|\t|\t|\t|\t+-- [SPLIT: x3 = 1 True]\n",
      "|\t|\t|\t|\t|\t+-- [LABEL = 1]\n",
      "|\t|\t|\t+-- [SPLIT: x4 = 3 True]\n",
      "|\t|\t|\t|\t+-- [SPLIT: x1 = 2 False]\n",
      "|\t|\t|\t|\t|\t+-- [LABEL = 0]\n",
      "|\t|\t|\t|\t+-- [SPLIT: x1 = 2 True]\n",
      "|\t|\t|\t|\t|\t+-- [LABEL = 1]\n",
      "|\t|\t+-- [SPLIT: x1 = 1 True]\n",
      "|\t|\t|\t+-- [LABEL = 0]\n",
      "|\t+-- [SPLIT: x0 = 1 True]\n",
      "|\t|\t+-- [SPLIT: x1 = 3 False]\n",
      "|\t|\t|\t+-- [SPLIT: x4 = 4 False]\n",
      "|\t|\t|\t|\t+-- [SPLIT: x3 = 2 False]\n",
      "|\t|\t|\t|\t|\t+-- [LABEL = 0]\n",
      "|\t|\t|\t|\t+-- [SPLIT: x3 = 2 True]\n",
      "|\t|\t|\t|\t|\t+-- [LABEL = 0]\n",
      "|\t|\t|\t+-- [SPLIT: x4 = 4 True]\n",
      "|\t|\t|\t|\t+-- [SPLIT: x5 = 1 False]\n",
      "|\t|\t|\t|\t|\t+-- [LABEL = 0]\n",
      "|\t|\t|\t|\t+-- [SPLIT: x5 = 1 True]\n",
      "|\t|\t|\t|\t|\t+-- [LABEL = 0]\n",
      "|\t|\t+-- [SPLIT: x1 = 3 True]\n",
      "|\t|\t|\t+-- [LABEL = 0]\n",
      "+-- [SPLIT: x4 = 1 True]\n",
      "|\t+-- [LABEL = 1]\n"
     ]
    }
   ],
   "source": [
    "# Learn a decision tree of depth 5\n",
    "decision_tree_5c = id3(Xtrn, ytrn, max_depth=5)\n",
    "\n",
    "# Pretty print it to console\n",
    "pretty_print(decision_tree_5c)\n",
    "dot_str = to_graphviz(decision_tree_5c)\n",
    "render_dot_file(dot_str, './my_learned_tree')"
   ]
  },
  {
   "cell_type": "code",
   "execution_count": 504,
   "metadata": {},
   "outputs": [
    {
     "name": "stdout",
     "output_type": "stream",
     "text": [
      "Confusion Matrix (Depth = 5):\n",
      "[[156  60]\n",
      " [ 48 168]]\n"
     ]
    }
   ],
   "source": [
    "y_pred_5c = [predict_example(x, decision_tree_5c) for x in Xtst]\n",
    "print(\"Confusion Matrix (Depth = 5):\")\n",
    "print(confusion_matrix(ytst, y_pred_5c))"
   ]
  },
  {
   "cell_type": "markdown",
   "metadata": {},
   "source": [
    "Note: It seemed really strange to me at first that the sum of false negatives and false positives was the same for all 3 depths: 1, 3, and 5. However, this is actually consistent with the test error graph in part B for the Monks-1 training set. Indeed, if I set the max-depth to 4 (where the plot shows that the error is less), the sum of the false's goes down to 72 instead of 108."
   ]
  },
  {
   "cell_type": "markdown",
   "metadata": {},
   "source": [
    "# Part D"
   ]
  },
  {
   "cell_type": "code",
   "execution_count": 505,
   "metadata": {},
   "outputs": [],
   "source": [
    "from sklearn.tree import DecisionTreeClassifier\n",
    "from sklearn import tree\n",
    "from sklearn.datasets import load_iris"
   ]
  },
  {
   "cell_type": "markdown",
   "metadata": {},
   "source": [
    "Monks-1 "
   ]
  },
  {
   "cell_type": "code",
   "execution_count": 506,
   "metadata": {},
   "outputs": [],
   "source": [
    "M = np.genfromtxt('./monks-1.train', missing_values=0, skip_header=0, delimiter=',', dtype=int)\n",
    "ytrn = M[:, 0]\n",
    "Xtrn = M[:, 1:]\n",
    "\n",
    "M = np.genfromtxt('./monks-1.test', missing_values=0, skip_header=0, delimiter=',', dtype=int)\n",
    "ytst = M[:, 0]\n",
    "Xtst = M[:, 1:]"
   ]
  },
  {
   "cell_type": "markdown",
   "metadata": {},
   "source": [
    "Depth = 1"
   ]
  },
  {
   "cell_type": "code",
   "execution_count": 507,
   "metadata": {},
   "outputs": [
    {
     "data": {
      "text/plain": [
       "[Text(167.4, 163.07999999999998, 'X[4] <= 1.5\\nentropy = 1.0\\nsamples = 124\\nvalue = [62, 62]'),\n",
       " Text(83.7, 54.360000000000014, 'entropy = 0.0\\nsamples = 29\\nvalue = [0, 29]'),\n",
       " Text(251.10000000000002, 54.360000000000014, 'entropy = 0.932\\nsamples = 95\\nvalue = [62, 33]')]"
      ]
     },
     "execution_count": 507,
     "metadata": {},
     "output_type": "execute_result"
    },
    {
     "data": {
      "image/png": "[encoded data removed]",
      "text/plain": [
       "<Figure size 432x288 with 1 Axes>"
      ]
     },
     "metadata": {
      "needs_background": "light"
     },
     "output_type": "display_data"
    }
   ],
   "source": [
    "decision_tree_1d = DecisionTreeClassifier(criterion='entropy', max_depth = 1).fit(Xtrn, ytrn)\n",
    "tree.plot_tree(decision_tree_1d)"
   ]
  },
  {
   "cell_type": "code",
   "execution_count": 508,
   "metadata": {},
   "outputs": [
    {
     "name": "stdout",
     "output_type": "stream",
     "text": [
      "Confusion Matrix (Depth = 1):\n",
      "[[216   0]\n",
      " [108 108]]\n"
     ]
    }
   ],
   "source": [
    "y_pred_1d = [decision_tree_1d.predict([x]) for x in Xtst]\n",
    "print(\"Confusion Matrix (Depth = 1):\")\n",
    "print(confusion_matrix(ytst, y_pred_1d))"
   ]
  },
  {
   "cell_type": "markdown",
   "metadata": {},
   "source": [
    "Depth = 3"
   ]
  },
  {
   "cell_type": "code",
   "execution_count": 509,
   "metadata": {},
   "outputs": [
    {
     "data": {
      "text/plain": [
       "[Text(125.55000000000001, 190.26, 'X[4] <= 1.5\\nentropy = 1.0\\nsamples = 124\\nvalue = [62, 62]'),\n",
       " Text(83.7, 135.9, 'entropy = 0.0\\nsamples = 29\\nvalue = [0, 29]'),\n",
       " Text(167.4, 135.9, 'X[0] <= 1.5\\nentropy = 0.932\\nsamples = 95\\nvalue = [62, 33]'),\n",
       " Text(83.7, 81.53999999999999, 'X[1] <= 1.5\\nentropy = 0.732\\nsamples = 39\\nvalue = [31, 8]'),\n",
       " Text(41.85, 27.180000000000007, 'entropy = 0.0\\nsamples = 8\\nvalue = [0, 8]'),\n",
       " Text(125.55000000000001, 27.180000000000007, 'entropy = 0.0\\nsamples = 31\\nvalue = [31, 0]'),\n",
       " Text(251.10000000000002, 81.53999999999999, 'X[1] <= 1.5\\nentropy = 0.992\\nsamples = 56\\nvalue = [31, 25]'),\n",
       " Text(209.25, 27.180000000000007, 'entropy = 0.0\\nsamples = 20\\nvalue = [20, 0]'),\n",
       " Text(292.95, 27.180000000000007, 'entropy = 0.888\\nsamples = 36\\nvalue = [11, 25]')]"
      ]
     },
     "execution_count": 509,
     "metadata": {},
     "output_type": "execute_result"
    },
    {
     "data": {
      "image/png": "[encoded data removed]",
      "text/plain": [
       "<Figure size 432x288 with 1 Axes>"
      ]
     },
     "metadata": {
      "needs_background": "light"
     },
     "output_type": "display_data"
    }
   ],
   "source": [
    "decision_tree_3d = DecisionTreeClassifier(criterion='entropy', max_depth = 3).fit(Xtrn, ytrn)\n",
    "tree.plot_tree(decision_tree_3d)"
   ]
  },
  {
   "cell_type": "code",
   "execution_count": 510,
   "metadata": {},
   "outputs": [
    {
     "name": "stdout",
     "output_type": "stream",
     "text": [
      "Confusion Matrix (Depth = 3):\n",
      "[[144  72]\n",
      " [  0 216]]\n"
     ]
    }
   ],
   "source": [
    "y_pred_3d = [decision_tree_3d.predict([x]) for x in Xtst]\n",
    "print(\"Confusion Matrix (Depth = 3):\")\n",
    "print(confusion_matrix(ytst, y_pred_3d))"
   ]
  },
  {
   "cell_type": "markdown",
   "metadata": {},
   "source": [
    "Depth = 5"
   ]
  },
  {
   "cell_type": "code",
   "execution_count": 511,
   "metadata": {},
   "outputs": [
    {
     "data": {
      "text/plain": [
       "[Text(91.30909090909091, 199.32, 'X[4] <= 1.5\\nentropy = 1.0\\nsamples = 124\\nvalue = [62, 62]'),\n",
       " Text(60.872727272727275, 163.07999999999998, 'entropy = 0.0\\nsamples = 29\\nvalue = [0, 29]'),\n",
       " Text(121.74545454545455, 163.07999999999998, 'X[0] <= 1.5\\nentropy = 0.932\\nsamples = 95\\nvalue = [62, 33]'),\n",
       " Text(60.872727272727275, 126.83999999999999, 'X[1] <= 1.5\\nentropy = 0.732\\nsamples = 39\\nvalue = [31, 8]'),\n",
       " Text(30.436363636363637, 90.6, 'entropy = 0.0\\nsamples = 8\\nvalue = [0, 8]'),\n",
       " Text(91.30909090909091, 90.6, 'entropy = 0.0\\nsamples = 31\\nvalue = [31, 0]'),\n",
       " Text(182.61818181818182, 126.83999999999999, 'X[1] <= 1.5\\nentropy = 0.992\\nsamples = 56\\nvalue = [31, 25]'),\n",
       " Text(152.1818181818182, 90.6, 'entropy = 0.0\\nsamples = 20\\nvalue = [20, 0]'),\n",
       " Text(213.05454545454546, 90.6, 'X[3] <= 1.5\\nentropy = 0.888\\nsamples = 36\\nvalue = [11, 25]'),\n",
       " Text(152.1818181818182, 54.359999999999985, 'X[5] <= 1.5\\nentropy = 0.75\\nsamples = 14\\nvalue = [3, 11]'),\n",
       " Text(121.74545454545455, 18.119999999999976, 'entropy = 0.0\\nsamples = 5\\nvalue = [0, 5]'),\n",
       " Text(182.61818181818182, 18.119999999999976, 'entropy = 0.918\\nsamples = 9\\nvalue = [3, 6]'),\n",
       " Text(273.92727272727274, 54.359999999999985, 'X[5] <= 1.5\\nentropy = 0.946\\nsamples = 22\\nvalue = [8, 14]'),\n",
       " Text(243.4909090909091, 18.119999999999976, 'entropy = 0.954\\nsamples = 8\\nvalue = [5, 3]'),\n",
       " Text(304.3636363636364, 18.119999999999976, 'entropy = 0.75\\nsamples = 14\\nvalue = [3, 11]')]"
      ]
     },
     "execution_count": 511,
     "metadata": {},
     "output_type": "execute_result"
    },
    {
     "data": {
      "image/png": "[encoded data removed]",
      "text/plain": [
       "<Figure size 432x288 with 1 Axes>"
      ]
     },
     "metadata": {
      "needs_background": "light"
     },
     "output_type": "display_data"
    }
   ],
   "source": [
    "decision_tree_5d = DecisionTreeClassifier(criterion='entropy', max_depth = 5).fit(Xtrn, ytrn)\n",
    "tree.plot_tree(decision_tree_5d)"
   ]
  },
  {
   "cell_type": "code",
   "execution_count": 512,
   "metadata": {},
   "outputs": [
    {
     "name": "stdout",
     "output_type": "stream",
     "text": [
      "Confusion Matrix (Depth = 5):\n",
      "[[168  48]\n",
      " [ 24 192]]\n"
     ]
    }
   ],
   "source": [
    "y_pred_5d = [decision_tree_5d.predict([x]) for x in Xtst]\n",
    "print(\"Confusion Matrix (Depth = 5):\")\n",
    "print(confusion_matrix(ytst, y_pred_5d))"
   ]
  },
  {
   "cell_type": "markdown",
   "metadata": {},
   "source": [
    "# Part E"
   ]
  },
  {
   "cell_type": "code",
   "execution_count": 513,
   "metadata": {},
   "outputs": [],
   "source": [
    "M = np.genfromtxt('./part_E_Dataset.txt', missing_values=0, skip_header=0)"
   ]
  },
  {
   "cell_type": "code",
   "execution_count": 514,
   "metadata": {},
   "outputs": [],
   "source": [
    "#We want to find the mean of each attribute, not of all the attributes mushed together\n",
    "trpose = np.transpose(M)\n",
    "Mat = []\n",
    "for row in trpose:\n",
    "    mean = np.mean(row)\n",
    "    temp = []\n",
    "    for point in row:\n",
    "        if (point <= mean):\n",
    "             temp.append(0)\n",
    "        else:\n",
    "             temp.append(1)\n",
    "    Mat.append(temp)\n",
    "Mat = np.asarray(np.transpose(Mat))\n",
    "np.random.shuffle(Mat)"
   ]
  },
  {
   "cell_type": "code",
   "execution_count": 515,
   "metadata": {},
   "outputs": [
    {
     "data": {
      "text/plain": [
       "array([0, 1])"
      ]
     },
     "execution_count": 515,
     "metadata": {},
     "output_type": "execute_result"
    }
   ],
   "source": [
    "#5000 rows in M\n",
    "ytrn = Mat[:3751, 0] #75% of dataset\n",
    "Xtrn = Mat[:3751, 1:]\n",
    "\n",
    "ytst = Mat[3751:, 0]\n",
    "Xtst = Mat[3751:, 1:]\n",
    "np.unique(ytst)"
   ]
  },
  {
   "cell_type": "markdown",
   "metadata": {},
   "source": [
    "# Repeat Part C with my own Data Set"
   ]
  },
  {
   "cell_type": "markdown",
   "metadata": {},
   "source": [
    "Depth = 1"
   ]
  },
  {
   "cell_type": "code",
   "execution_count": 516,
   "metadata": {},
   "outputs": [
    {
     "name": "stdout",
     "output_type": "stream",
     "text": [
      "TREE\n",
      "+-- [SPLIT: x2 = 0 False]\n",
      "|\t+-- [LABEL = 1]\n",
      "+-- [SPLIT: x2 = 0 True]\n",
      "|\t+-- [LABEL = 0]\n"
     ]
    }
   ],
   "source": [
    "decision_tree_1ec = id3(Xtrn, ytrn, max_depth=1)\n",
    "\n",
    "# Pretty print it to console\n",
    "pretty_print(decision_tree_1ec)"
   ]
  },
  {
   "cell_type": "code",
   "execution_count": 517,
   "metadata": {},
   "outputs": [
    {
     "name": "stdout",
     "output_type": "stream",
     "text": [
      "Confusion Matrix (Depth = 1):\n",
      "[[668  16]\n",
      " [  0 565]]\n"
     ]
    }
   ],
   "source": [
    "y_pred_1ec = [predict_example(x, decision_tree_1ec) for x in Xtst]\n",
    "print(\"Confusion Matrix (Depth = 1):\")\n",
    "print(confusion_matrix(ytst, y_pred_1ec))"
   ]
  },
  {
   "cell_type": "markdown",
   "metadata": {},
   "source": [
    "Depth = 3"
   ]
  },
  {
   "cell_type": "code",
   "execution_count": 518,
   "metadata": {},
   "outputs": [
    {
     "name": "stdout",
     "output_type": "stream",
     "text": [
      "TREE\n",
      "+-- [SPLIT: x2 = 0 False]\n",
      "|\t+-- [SPLIT: x4 = 0 False]\n",
      "|\t|\t+-- [LABEL = 1]\n",
      "|\t+-- [SPLIT: x4 = 0 True]\n",
      "|\t|\t+-- [SPLIT: x3 = 0 False]\n",
      "|\t|\t|\t+-- [LABEL = 1]\n",
      "|\t|\t+-- [SPLIT: x3 = 0 True]\n",
      "|\t|\t|\t+-- [LABEL = 0]\n",
      "+-- [SPLIT: x2 = 0 True]\n",
      "|\t+-- [LABEL = 0]\n"
     ]
    }
   ],
   "source": [
    "decision_tree_3ec = id3(Xtrn, ytrn, max_depth=3)\n",
    "\n",
    "# Pretty print it to console\n",
    "pretty_print(decision_tree_3ec)"
   ]
  },
  {
   "cell_type": "code",
   "execution_count": 519,
   "metadata": {},
   "outputs": [
    {
     "name": "stdout",
     "output_type": "stream",
     "text": [
      "Confusion Matrix (Depth = 3):\n",
      "[[684   0]\n",
      " [  6 559]]\n"
     ]
    }
   ],
   "source": [
    "y_pred_3ec = [predict_example(x, decision_tree_3ec) for x in Xtst]\n",
    "print(\"Confusion Matrix (Depth = 3):\")\n",
    "print(confusion_matrix(ytst, y_pred_3ec))"
   ]
  },
  {
   "cell_type": "markdown",
   "metadata": {},
   "source": [
    "Depth = 5"
   ]
  },
  {
   "cell_type": "code",
   "execution_count": 520,
   "metadata": {},
   "outputs": [
    {
     "name": "stdout",
     "output_type": "stream",
     "text": [
      "TREE\n",
      "+-- [SPLIT: x2 = 0 False]\n",
      "|\t+-- [SPLIT: x4 = 0 False]\n",
      "|\t|\t+-- [LABEL = 1]\n",
      "|\t+-- [SPLIT: x4 = 0 True]\n",
      "|\t|\t+-- [SPLIT: x3 = 0 False]\n",
      "|\t|\t|\t+-- [LABEL = 1]\n",
      "|\t|\t+-- [SPLIT: x3 = 0 True]\n",
      "|\t|\t|\t+-- [SPLIT: x0 = 0 False]\n",
      "|\t|\t|\t|\t+-- [SPLIT: x0 = 1 False]\n",
      "|\t|\t|\t|\t|\t+-- [LABEL = 0]\n",
      "|\t|\t|\t|\t+-- [SPLIT: x0 = 1 True]\n",
      "|\t|\t|\t|\t|\t+-- [LABEL = 0]\n",
      "|\t|\t|\t+-- [SPLIT: x0 = 0 True]\n",
      "|\t|\t|\t|\t+-- [SPLIT: x1 = 1 False]\n",
      "|\t|\t|\t|\t|\t+-- [LABEL = 0]\n",
      "|\t|\t|\t|\t+-- [SPLIT: x1 = 1 True]\n",
      "|\t|\t|\t|\t|\t+-- [LABEL = 0]\n",
      "+-- [SPLIT: x2 = 0 True]\n",
      "|\t+-- [LABEL = 0]\n"
     ]
    }
   ],
   "source": [
    "decision_tree_5ec = id3(Xtrn, ytrn, max_depth=5)\n",
    "\n",
    "# Pretty print it to console\n",
    "pretty_print(decision_tree_5ec)"
   ]
  },
  {
   "cell_type": "code",
   "execution_count": 521,
   "metadata": {},
   "outputs": [
    {
     "name": "stdout",
     "output_type": "stream",
     "text": [
      "Confusion Matrix (Depth = 5):\n",
      "[[684   0]\n",
      " [  6 559]]\n"
     ]
    }
   ],
   "source": [
    "y_pred_5ec = [predict_example(x, decision_tree_5ec) for x in Xtst]\n",
    "print(\"Confusion Matrix (Depth = 5):\")\n",
    "print(confusion_matrix(ytst, y_pred_5ec))"
   ]
  },
  {
   "cell_type": "markdown",
   "metadata": {},
   "source": [
    "# Repeat Part D with my own Data Set"
   ]
  },
  {
   "cell_type": "markdown",
   "metadata": {},
   "source": [
    "Depth = 1"
   ]
  },
  {
   "cell_type": "code",
   "execution_count": 522,
   "metadata": {},
   "outputs": [
    {
     "data": {
      "text/plain": [
       "[Text(167.4, 163.07999999999998, 'X[2] <= 0.5\\nentropy = 0.999\\nsamples = 3751\\nvalue = [1932, 1819]'),\n",
       " Text(83.7, 54.360000000000014, 'entropy = 0.0\\nsamples = 1898\\nvalue = [1898, 0]'),\n",
       " Text(251.10000000000002, 54.360000000000014, 'entropy = 0.132\\nsamples = 1853\\nvalue = [34, 1819]')]"
      ]
     },
     "execution_count": 522,
     "metadata": {},
     "output_type": "execute_result"
    },
    {
     "data": {
      "image/png": "[encoded data removed]",
      "text/plain": [
       "<Figure size 432x288 with 1 Axes>"
      ]
     },
     "metadata": {
      "needs_background": "light"
     },
     "output_type": "display_data"
    }
   ],
   "source": [
    "decision_tree_1ed = DecisionTreeClassifier(criterion='entropy', max_depth = 1).fit(Xtrn, ytrn)\n",
    "tree.plot_tree(decision_tree_1ed)"
   ]
  },
  {
   "cell_type": "code",
   "execution_count": 523,
   "metadata": {},
   "outputs": [
    {
     "name": "stdout",
     "output_type": "stream",
     "text": [
      "Confusion Matrix (Depth = 1):\n",
      "[[668  16]\n",
      " [  0 565]]\n"
     ]
    }
   ],
   "source": [
    "y_pred_1ed = [decision_tree_1ed.predict([x]) for x in Xtst]\n",
    "print(\"Confusion Matrix (Depth = 1):\")\n",
    "print(confusion_matrix(ytst, y_pred_1ed))"
   ]
  },
  {
   "cell_type": "markdown",
   "metadata": {},
   "source": [
    "Depth = 3"
   ]
  },
  {
   "cell_type": "code",
   "execution_count": 524,
   "metadata": {},
   "outputs": [
    {
     "data": {
      "text/plain": [
       "[Text(133.92000000000002, 190.26, 'X[2] <= 0.5\\nentropy = 0.999\\nsamples = 3751\\nvalue = [1932, 1819]'),\n",
       " Text(66.96000000000001, 135.9, 'entropy = 0.0\\nsamples = 1898\\nvalue = [1898, 0]'),\n",
       " Text(200.88000000000002, 135.9, 'X[4] <= 0.5\\nentropy = 0.132\\nsamples = 1853\\nvalue = [34, 1819]'),\n",
       " Text(133.92000000000002, 81.53999999999999, 'X[3] <= 0.5\\nentropy = 0.886\\nsamples = 112\\nvalue = [34, 78]'),\n",
       " Text(66.96000000000001, 27.180000000000007, 'entropy = 0.941\\nsamples = 53\\nvalue = [34, 19]'),\n",
       " Text(200.88000000000002, 27.180000000000007, 'entropy = 0.0\\nsamples = 59\\nvalue = [0, 59]'),\n",
       " Text(267.84000000000003, 81.53999999999999, 'entropy = 0.0\\nsamples = 1741\\nvalue = [0, 1741]')]"
      ]
     },
     "execution_count": 524,
     "metadata": {},
     "output_type": "execute_result"
    },
    {
     "data": {
      "image/png": "[encoded data removed]",
      "text/plain": [
       "<Figure size 432x288 with 1 Axes>"
      ]
     },
     "metadata": {
      "needs_background": "light"
     },
     "output_type": "display_data"
    }
   ],
   "source": [
    "decision_tree_3ed = DecisionTreeClassifier(criterion='entropy', max_depth = 3).fit(Xtrn, ytrn)\n",
    "tree.plot_tree(decision_tree_3ed)"
   ]
  },
  {
   "cell_type": "code",
   "execution_count": 525,
   "metadata": {},
   "outputs": [
    {
     "name": "stdout",
     "output_type": "stream",
     "text": [
      "Confusion Matrix (Depth = 3):\n",
      "[[668  16]\n",
      " [  0 565]]\n"
     ]
    }
   ],
   "source": [
    "y_pred_3ed = [decision_tree_1ed.predict([x]) for x in Xtst]\n",
    "print(\"Confusion Matrix (Depth = 3):\")\n",
    "print(confusion_matrix(ytst, y_pred_3ed))"
   ]
  },
  {
   "cell_type": "markdown",
   "metadata": {},
   "source": [
    "Depth = 5"
   ]
  },
  {
   "cell_type": "code",
   "execution_count": 526,
   "metadata": {},
   "outputs": [
    {
     "data": {
      "text/plain": [
       "[Text(167.4, 195.696, 'X[2] <= 0.5\\nentropy = 0.999\\nsamples = 3751\\nvalue = [1932, 1819]'),\n",
       " Text(111.60000000000001, 152.208, 'entropy = 0.0\\nsamples = 1898\\nvalue = [1898, 0]'),\n",
       " Text(223.20000000000002, 152.208, 'X[4] <= 0.5\\nentropy = 0.132\\nsamples = 1853\\nvalue = [34, 1819]'),\n",
       " Text(167.4, 108.72, 'X[3] <= 0.5\\nentropy = 0.886\\nsamples = 112\\nvalue = [34, 78]'),\n",
       " Text(111.60000000000001, 65.232, 'X[6] <= 0.5\\nentropy = 0.941\\nsamples = 53\\nvalue = [34, 19]'),\n",
       " Text(55.800000000000004, 21.744, 'entropy = 0.764\\nsamples = 27\\nvalue = [21, 6]'),\n",
       " Text(167.4, 21.744, 'entropy = 1.0\\nsamples = 26\\nvalue = [13, 13]'),\n",
       " Text(223.20000000000002, 65.232, 'entropy = 0.0\\nsamples = 59\\nvalue = [0, 59]'),\n",
       " Text(279.0, 108.72, 'entropy = 0.0\\nsamples = 1741\\nvalue = [0, 1741]')]"
      ]
     },
     "execution_count": 526,
     "metadata": {},
     "output_type": "execute_result"
    },
    {
     "data": {
      "image/png": "[encoded data removed]",
      "text/plain": [
       "<Figure size 432x288 with 1 Axes>"
      ]
     },
     "metadata": {
      "needs_background": "light"
     },
     "output_type": "display_data"
    }
   ],
   "source": [
    "decision_tree_5ed = DecisionTreeClassifier(criterion='entropy', max_depth = 5).fit(Xtrn, ytrn)\n",
    "tree.plot_tree(decision_tree_5ed)"
   ]
  },
  {
   "cell_type": "code",
   "execution_count": 527,
   "metadata": {},
   "outputs": [
    {
     "name": "stdout",
     "output_type": "stream",
     "text": [
      "Confusion Matrix (Depth = 5):\n",
      "[[668  16]\n",
      " [  0 565]]\n"
     ]
    }
   ],
   "source": [
    "y_pred_5ed = [decision_tree_1ed.predict([x]) for x in Xtst]\n",
    "print(\"Confusion Matrix (Depth = 5):\")\n",
    "print(confusion_matrix(ytst, y_pred_5ed))"
   ]
  },
  {
   "cell_type": "markdown",
   "metadata": {},
   "source": [
    "# Discussion: My Implementation vs Scikit-Learn Implementation"
   ]
  },
  {
   "cell_type": "markdown",
   "metadata": {},
   "source": [
    "The first, obvious, thing to note is that it is much more time efficient to use the scikit-learn implementation for decision trees rather than implementing it individually. In terms of accuracy, it seems that both implementations are around equal. Looking at the confusion matrices, our id3 implementation did slightly worse than the scikit implementation when it came to the monks sets. However, it did slightly better than the scikit implementation when it came to my own data set in part E. This makes sense, as we specifically used entropy as the criterion to make the scikit decision tree, so the details of the implementation are likely pretty similar. Because the data I chose had 10 different attributes, it is more likely to be accurate because there are more attribute-value pairs to choose a possible higher information gain from. This would help explain the accuracy shown by the confusion matrices in part E"
   ]
  },
  {
   "cell_type": "code",
   "execution_count": null,
   "metadata": {},
   "outputs": [],
   "source": []
  }
 ],
 "metadata": {
  "kernelspec": {
   "display_name": "Python 3",
   "language": "python",
   "name": "python3"
  },
  "language_info": {
   "codemirror_mode": {
    "name": "ipython",
    "version": 3
   },
   "file_extension": ".py",
   "mimetype": "text/x-python",
   "name": "python",
   "nbconvert_exporter": "python",
   "pygments_lexer": "ipython3",
   "version": "3.8.5"
  }
 },
 "nbformat": 4,
 "nbformat_minor": 2
}
